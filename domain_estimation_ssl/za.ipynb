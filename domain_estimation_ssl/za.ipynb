{
 "cells": [
  {
   "cell_type": "code",
   "execution_count": null,
   "metadata": {},
   "outputs": [],
   "source": [
    "%reset -f"
   ]
  },
  {
   "cell_type": "code",
   "execution_count": null,
   "metadata": {},
   "outputs": [],
   "source": [
    "import pandas as pd\n",
    "import numpy as np\n",
    "import os\n",
    "import yaml\n",
    "from easydict import EasyDict\n",
    "\n",
    "import torch\n",
    "import torch.nn as nn\n",
    "import torch.nn.functional as F\n",
    "\n",
    "from sklearn.metrics import normalized_mutual_info_score as NMI\n",
    "\n",
    "from z_common import config_to_execute\n",
    "from data_aug.gaussian_blur import GaussianBlur\n",
    "from clustering import run_clustering\n",
    "from dataset import get_datasets\n",
    "from simclr import SimCLR\n",
    "from log_functions import *\n",
    "\n",
    "from models.baseline_encoder import Encoder\n",
    "from models.alexnet_simclr import AlexSimCLR\n",
    "from models.resnet_simclr import ResNetSimCLR\n",
    "from loss.nt_xent import NTXentLoss"
   ]
  },
  {
   "cell_type": "code",
   "execution_count": null,
   "metadata": {},
   "outputs": [],
   "source": [
    "N_CUDA = 0\n",
    "PARENT = 'Office31'\n",
    "DATA_DOMAIN = 'dslr_webcam'\n",
    "log_dir_opt = f''\n",
    "\n",
    "config, CONFIG_FILE, log_dir = config_to_execute(DATA_DOMAIN, PARENT, N_CUDA, log_dir_opt)\n",
    "\n",
    "config.config_path = CONFIG_FILE\n",
    "config.log_dir = log_dir\n",
    "config.lap = 1\n",
    "config.num_lap = 2"
   ]
  },
  {
   "cell_type": "code",
   "execution_count": null,
   "metadata": {},
   "outputs": [],
   "source": [
    "config.edls = pd.read_csv(os.path.join(config.log_dir, 'cluster_pca_gmm.csv'), names=['domain_label'], dtype=int).domain_label.values\n",
    "dataset = get_datasets(config, 'train')\n",
    "train_loader = torch.utils.data.DataLoader(dataset, batch_size=config.batch_size, shuffle=True, num_workers=2, drop_last=True)\n",
    "\n",
    "\n",
    "model = Encoder(config.model.ssl, input_dim=3, out_dim=config.model.out_dim).cuda()\n",
    "nt_xent_criterion = NTXentLoss(config, 'cuda', config.batch_size, **config.loss)\n",
    "\n",
    "xis, xjs, edls = next(iter(train_loader))\n",
    "xis, xjs = xis.cuda(), xjs.cuda()\n",
    "# get the representations and the projections\n",
    "ris, zis = model(xis)  # [N,C]\n",
    "rjs, zjs = model(xjs)  # [N,C]\n",
    "# normalize projection feature vectors\n",
    "zis = F.normalize(zis, dim=1)\n",
    "zjs = F.normalize(zjs, dim=1)\n",
    "\n",
    "loss = nt_xent_criterion(zis, zjs, edls)\n",
    "loss"
   ]
  },
  {
   "cell_type": "code",
   "execution_count": null,
   "metadata": {},
   "outputs": [],
   "source": [
    "cosine_similarity = nn.CosineSimilarity(dim=-1)\n",
    "representations = torch.cat([zjs, zis], dim=0)\n",
    "similarity_matrix = cosine_similarity(representations.unsqueeze(1), representations.unsqueeze(1))  # 類似度行列の作成. ([2*batch_size, 2*batch_size])\n",
    "# similarity_matrix"
   ]
  },
  {
   "cell_type": "code",
   "execution_count": null,
   "metadata": {},
   "outputs": [],
   "source": [
    "import itertools\n",
    "config.edls = pd.read_csv(os.path.join(config.log_dir, 'cluster_pca_gmm.csv'), names=['domain_label'], dtype=int).domain_label.values\n",
    "edl_index = [[i for i, x in enumerate(config.edls) if x == d] for d in np.unique(config.edls)][0]\n",
    "next(iter(itertools.combinations(edl_index, 2)))"
   ]
  }
 ],
 "metadata": {
  "kernelspec": {
   "display_name": "Python 3.10.4 ('generic')",
   "language": "python",
   "name": "python3"
  },
  "language_info": {
   "codemirror_mode": {
    "name": "ipython",
    "version": 3
   },
   "file_extension": ".py",
   "mimetype": "text/x-python",
   "name": "python",
   "nbconvert_exporter": "python",
   "pygments_lexer": "ipython3",
   "version": "3.10.4"
  },
  "orig_nbformat": 4,
  "vscode": {
   "interpreter": {
    "hash": "910681d38576edcdf845dadbeb8ce131b44b32e4da67ad4b7e8bb1a3790e2184"
   }
  }
 },
 "nbformat": 4,
 "nbformat_minor": 2
}
