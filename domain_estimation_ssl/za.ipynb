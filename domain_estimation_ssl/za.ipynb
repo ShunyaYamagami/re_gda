{
 "cells": [
  {
   "cell_type": "code",
   "execution_count": 2,
   "metadata": {},
   "outputs": [],
   "source": [
    "%reset -f"
   ]
  },
  {
   "cell_type": "code",
   "execution_count": 3,
   "metadata": {},
   "outputs": [
    {
     "name": "stderr",
     "output_type": "stream",
     "text": [
      "/home/syamagami/anaconda3/envs/generic/lib/python3.10/site-packages/tqdm/auto.py:22: TqdmWarning: IProgress not found. Please update jupyter and ipywidgets. See https://ipywidgets.readthedocs.io/en/stable/user_install.html\n",
      "  from .autonotebook import tqdm as notebook_tqdm\n"
     ]
    }
   ],
   "source": [
    "import pandas as pd\n",
    "import numpy as np\n",
    "import os\n",
    "import yaml\n",
    "from easydict import EasyDict\n",
    "\n",
    "import torch\n",
    "import torch.nn as nn\n",
    "import torch.nn.functional as F\n",
    "\n",
    "from sklearn.metrics import normalized_mutual_info_score as NMI\n",
    "\n",
    "from z_common import config_to_execute\n",
    "from clustering import run_clustering\n"
   ]
  },
  {
   "cell_type": "code",
   "execution_count": 4,
   "metadata": {},
   "outputs": [
    {
     "name": "stdout",
     "output_type": "stream",
     "text": [
      "===============================================\n",
      "==============  amazon_dslr_webcam  ==============\n",
      "===============================================\n"
     ]
    }
   ],
   "source": [
    "N_CUDA = 0\n",
    "PARENT = 'Office31'\n",
    "DATA_DOMAIN = 'amazon_dslr_webcam'\n",
    "log_dir_opt = f''\n",
    "\n",
    "config, CONFIG_FILE, log_dir = config_to_execute(DATA_DOMAIN, PARENT, N_CUDA, log_dir_opt)"
   ]
  },
  {
   "cell_type": "code",
   "execution_count": 5,
   "metadata": {},
   "outputs": [],
   "source": [
    "config.config_path = CONFIG_FILE\n",
    "config.log_dir = log_dir\n",
    "config.lap = 1\n",
    "# feats, edls_dataset = run_clustering(config)"
   ]
  },
  {
   "cell_type": "code",
   "execution_count": 6,
   "metadata": {},
   "outputs": [
    {
     "data": {
      "text/html": [
       "<div>\n",
       "<style scoped>\n",
       "    .dataframe tbody tr th:only-of-type {\n",
       "        vertical-align: middle;\n",
       "    }\n",
       "\n",
       "    .dataframe tbody tr th {\n",
       "        vertical-align: top;\n",
       "    }\n",
       "\n",
       "    .dataframe thead th {\n",
       "        text-align: right;\n",
       "    }\n",
       "</style>\n",
       "<table border=\"1\" class=\"dataframe\">\n",
       "  <thead>\n",
       "    <tr style=\"text-align: right;\">\n",
       "      <th></th>\n",
       "      <th>rdomain</th>\n",
       "      <th>edomain</th>\n",
       "      <th>rclass</th>\n",
       "      <th>eclass</th>\n",
       "    </tr>\n",
       "  </thead>\n",
       "  <tbody>\n",
       "    <tr>\n",
       "      <th>0</th>\n",
       "      <td>0</td>\n",
       "      <td>1</td>\n",
       "      <td>0</td>\n",
       "      <td>8</td>\n",
       "    </tr>\n",
       "    <tr>\n",
       "      <th>1</th>\n",
       "      <td>0</td>\n",
       "      <td>1</td>\n",
       "      <td>0</td>\n",
       "      <td>8</td>\n",
       "    </tr>\n",
       "    <tr>\n",
       "      <th>2</th>\n",
       "      <td>0</td>\n",
       "      <td>1</td>\n",
       "      <td>0</td>\n",
       "      <td>8</td>\n",
       "    </tr>\n",
       "    <tr>\n",
       "      <th>3</th>\n",
       "      <td>0</td>\n",
       "      <td>1</td>\n",
       "      <td>0</td>\n",
       "      <td>8</td>\n",
       "    </tr>\n",
       "    <tr>\n",
       "      <th>4</th>\n",
       "      <td>0</td>\n",
       "      <td>1</td>\n",
       "      <td>0</td>\n",
       "      <td>8</td>\n",
       "    </tr>\n",
       "    <tr>\n",
       "      <th>...</th>\n",
       "      <td>...</td>\n",
       "      <td>...</td>\n",
       "      <td>...</td>\n",
       "      <td>...</td>\n",
       "    </tr>\n",
       "    <tr>\n",
       "      <th>4105</th>\n",
       "      <td>2</td>\n",
       "      <td>2</td>\n",
       "      <td>30</td>\n",
       "      <td>19</td>\n",
       "    </tr>\n",
       "    <tr>\n",
       "      <th>4106</th>\n",
       "      <td>2</td>\n",
       "      <td>1</td>\n",
       "      <td>30</td>\n",
       "      <td>22</td>\n",
       "    </tr>\n",
       "    <tr>\n",
       "      <th>4107</th>\n",
       "      <td>2</td>\n",
       "      <td>1</td>\n",
       "      <td>30</td>\n",
       "      <td>22</td>\n",
       "    </tr>\n",
       "    <tr>\n",
       "      <th>4108</th>\n",
       "      <td>2</td>\n",
       "      <td>2</td>\n",
       "      <td>30</td>\n",
       "      <td>12</td>\n",
       "    </tr>\n",
       "    <tr>\n",
       "      <th>4109</th>\n",
       "      <td>2</td>\n",
       "      <td>2</td>\n",
       "      <td>30</td>\n",
       "      <td>22</td>\n",
       "    </tr>\n",
       "  </tbody>\n",
       "</table>\n",
       "<p>4110 rows × 4 columns</p>\n",
       "</div>"
      ],
      "text/plain": [
       "      rdomain  edomain  rclass  eclass\n",
       "0           0        1       0       8\n",
       "1           0        1       0       8\n",
       "2           0        1       0       8\n",
       "3           0        1       0       8\n",
       "4           0        1       0       8\n",
       "...       ...      ...     ...     ...\n",
       "4105        2        2      30      19\n",
       "4106        2        1      30      22\n",
       "4107        2        1      30      22\n",
       "4108        2        2      30      12\n",
       "4109        2        2      30      22\n",
       "\n",
       "[4110 rows x 4 columns]"
      ]
     },
     "execution_count": 6,
     "metadata": {},
     "output_type": "execute_result"
    }
   ],
   "source": [
    "# 正解率\n",
    "dfs = []\n",
    "dfs.append(pd.read_csv(os.path.join(log_dir, 'real_domain.csv'), names=['label'], dtype=int))\n",
    "dfs.append(pd.read_csv(os.path.join(log_dir, 'cluster_pca_gmm.csv'), names=['label'], dtype=int))\n",
    "dfs.append(pd.read_csv(os.path.join(log_dir, 'real_class.csv'), names=['label'], dtype=int))\n",
    "dfs.append(pd.read_csv(os.path.join(log_dir, 'cluster_pca_gmm_class.csv'), names=['label'], dtype=int))\n",
    "\n",
    "df = pd.concat(dfs, axis=1)\n",
    "df.columns = ['rdomain', 'edomain', 'rclass', 'eclass']\n",
    "df"
   ]
  },
  {
   "cell_type": "code",
   "execution_count": 7,
   "metadata": {},
   "outputs": [
    {
     "name": "stdout",
     "output_type": "stream",
     "text": [
      "0.4322815476803166\n",
      "43.84428223844282\n",
      "0.18310308839325073\n",
      "2.5547445255474455\n"
     ]
    }
   ],
   "source": [
    "print(  NMI(df.rdomain, df.edomain)  )\n",
    "print(  100.0 * len(df[df.rdomain == df.edomain]) / len(df)  )\n",
    "print(  NMI(df.rclass, df.eclass)  )\n",
    "print(  100.0 * len(df[df.rclass == df.eclass]) / len(df)  )"
   ]
  },
  {
   "cell_type": "code",
   "execution_count": 20,
   "metadata": {},
   "outputs": [
    {
     "data": {
      "text/html": [
       "<div>\n",
       "<style scoped>\n",
       "    .dataframe tbody tr th:only-of-type {\n",
       "        vertical-align: middle;\n",
       "    }\n",
       "\n",
       "    .dataframe tbody tr th {\n",
       "        vertical-align: top;\n",
       "    }\n",
       "\n",
       "    .dataframe thead th {\n",
       "        text-align: right;\n",
       "    }\n",
       "</style>\n",
       "<table border=\"1\" class=\"dataframe\">\n",
       "  <thead>\n",
       "    <tr style=\"text-align: right;\">\n",
       "      <th></th>\n",
       "      <th>e_amazon</th>\n",
       "      <th>e_dslr</th>\n",
       "      <th>e_webcam</th>\n",
       "      <th>total</th>\n",
       "    </tr>\n",
       "  </thead>\n",
       "  <tbody>\n",
       "    <tr>\n",
       "      <th>r_amazon</th>\n",
       "      <td>1332</td>\n",
       "      <td>1452</td>\n",
       "      <td>33</td>\n",
       "      <td>2817</td>\n",
       "    </tr>\n",
       "    <tr>\n",
       "      <th>r_dslr</th>\n",
       "      <td>0</td>\n",
       "      <td>6</td>\n",
       "      <td>492</td>\n",
       "      <td>498</td>\n",
       "    </tr>\n",
       "    <tr>\n",
       "      <th>r_webcam</th>\n",
       "      <td>6</td>\n",
       "      <td>325</td>\n",
       "      <td>464</td>\n",
       "      <td>795</td>\n",
       "    </tr>\n",
       "  </tbody>\n",
       "</table>\n",
       "</div>"
      ],
      "text/plain": [
       "          e_amazon  e_dslr  e_webcam  total\n",
       "r_amazon      1332    1452        33   2817\n",
       "r_dslr           0       6       492    498\n",
       "r_webcam         6     325       464    795"
      ]
     },
     "metadata": {},
     "output_type": "display_data"
    }
   ],
   "source": [
    "from sklearn.metrics import confusion_matrix\n",
    "\n",
    "cmx = pd.DataFrame(confusion_matrix(df.rdomain, df.edomain), index = ['r_amazon', 'r_dslr', 'r_webcam'],  columns = ['e_amazon', 'e_dslr', 'e_webcam'])\n",
    "cmx['total'] = cmx.sum(axis=1)\n",
    "display(cmx)\n"
   ]
  }
 ],
 "metadata": {
  "kernelspec": {
   "display_name": "Python 3.10.4 ('generic')",
   "language": "python",
   "name": "python3"
  },
  "language_info": {
   "codemirror_mode": {
    "name": "ipython",
    "version": 3
   },
   "file_extension": ".py",
   "mimetype": "text/x-python",
   "name": "python",
   "nbconvert_exporter": "python",
   "pygments_lexer": "ipython3",
   "version": "3.10.4"
  },
  "orig_nbformat": 4,
  "vscode": {
   "interpreter": {
    "hash": "910681d38576edcdf845dadbeb8ce131b44b32e4da67ad4b7e8bb1a3790e2184"
   }
  }
 },
 "nbformat": 4,
 "nbformat_minor": 2
}
