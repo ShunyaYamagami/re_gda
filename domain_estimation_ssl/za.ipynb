{
 "cells": [
  {
   "cell_type": "code",
   "execution_count": null,
   "metadata": {},
   "outputs": [],
   "source": [
    "%reset -f"
   ]
  },
  {
   "cell_type": "code",
   "execution_count": null,
   "metadata": {},
   "outputs": [],
   "source": [
    "import pandas as pd\n",
    "import numpy as np\n",
    "import os\n",
    "import yaml\n",
    "from easydict import EasyDict\n",
    "\n",
    "import torch\n",
    "import torch.nn as nn\n",
    "import torch.nn.functional as F\n",
    "\n",
    "from sklearn.metrics import normalized_mutual_info_score as NMI\n",
    "\n",
    "from z_common import config_to_execute\n",
    "from clustering import run_clustering\n"
   ]
  },
  {
   "cell_type": "code",
   "execution_count": null,
   "metadata": {},
   "outputs": [],
   "source": [
    "N_CUDA = 0\n",
    "PARENT = 'Office31'\n",
    "DATA_DOMAIN = 'amazon_dslr_webcam'\n",
    "log_dir_opt = f''\n",
    "\n",
    "config, CONFIG_FILE, log_dir = config_to_execute(DATA_DOMAIN, PARENT, N_CUDA, log_dir_opt)"
   ]
  },
  {
   "cell_type": "code",
   "execution_count": null,
   "metadata": {},
   "outputs": [],
   "source": [
    "config.config_path = CONFIG_FILE\n",
    "config.log_dir = log_dir\n",
    "config.lap = 1\n",
    "# feats, edls_dataset = run_clustering(config)"
   ]
  },
  {
   "cell_type": "code",
   "execution_count": null,
   "metadata": {},
   "outputs": [],
   "source": [
    "# 正解率\n",
    "dfs = []\n",
    "dfs.append(pd.read_csv(os.path.join(log_dir, 'real_domain.csv'), names=['label'], dtype=int))\n",
    "dfs.append(pd.read_csv(os.path.join(log_dir, 'cluster_pca_gmm.csv'), names=['label'], dtype=int))\n",
    "dfs.append(pd.read_csv(os.path.join(log_dir, 'real_class.csv'), names=['label'], dtype=int))\n",
    "dfs.append(pd.read_csv(os.path.join(log_dir, 'cluster_pca_gmm_class.csv'), names=['label'], dtype=int))\n",
    "\n",
    "df = pd.concat(dfs, axis=1)\n",
    "df.columns = ['rdomain', 'edomain', 'rclass', 'eclass']\n",
    "df"
   ]
  },
  {
   "cell_type": "code",
   "execution_count": null,
   "metadata": {},
   "outputs": [],
   "source": [
    "print(  NMI(df.rdomain, df.edomain)  )\n",
    "print(  100.0 * len(df[df.rdomain == df.edomain]) / len(df)  )\n",
    "print(  NMI(df.rclass, df.eclass)  )\n",
    "print(  100.0 * len(df[df.rclass == df.eclass]) / len(df)  )"
   ]
  },
  {
   "cell_type": "code",
   "execution_count": null,
   "metadata": {},
   "outputs": [],
   "source": [
    "from sklearn.metrics import confusion_matrix\n",
    "\n",
    "cmx = pd.DataFrame(confusion_matrix(df.rdomain, df.edomain), index = ['r_amazon', 'r_dslr', 'r_webcam'],  columns = ['e_amazon', 'e_dslr', 'e_webcam'])\n",
    "cmx['total'] = cmx.sum(axis=1)\n",
    "display(cmx)\n"
   ]
  },
  {
   "cell_type": "code",
   "execution_count": 5,
   "metadata": {},
   "outputs": [],
   "source": [
    "for i in range(2, 0):\n",
    "    print(i)"
   ]
  }
 ],
 "metadata": {
  "kernelspec": {
   "display_name": "Python 3.10.4 ('generic')",
   "language": "python",
   "name": "python3"
  },
  "language_info": {
   "codemirror_mode": {
    "name": "ipython",
    "version": 3
   },
   "file_extension": ".py",
   "mimetype": "text/x-python",
   "name": "python",
   "nbconvert_exporter": "python",
   "pygments_lexer": "ipython3",
   "version": "3.10.4"
  },
  "orig_nbformat": 4,
  "vscode": {
   "interpreter": {
    "hash": "910681d38576edcdf845dadbeb8ce131b44b32e4da67ad4b7e8bb1a3790e2184"
   }
  }
 },
 "nbformat": 4,
 "nbformat_minor": 2
}
