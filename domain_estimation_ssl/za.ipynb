{
 "cells": [
  {
   "cell_type": "code",
   "execution_count": 1,
   "metadata": {},
   "outputs": [
    {
     "name": "stderr",
     "output_type": "stream",
     "text": [
      "/home/syamagami/anaconda3/envs/generic/lib/python3.10/site-packages/tqdm/auto.py:22: TqdmWarning: IProgress not found. Please update jupyter and ipywidgets. See https://ipywidgets.readthedocs.io/en/stable/user_install.html\n",
      "  from .autonotebook import tqdm as notebook_tqdm\n"
     ]
    },
    {
     "name": "stdout",
     "output_type": "stream",
     "text": [
      "Please install apex for mixed precision training from: https://github.com/NVIDIA/apex\n"
     ]
    }
   ],
   "source": [
    "import pandas as pd\n",
    "import numpy as np\n",
    "import os\n",
    "import yaml\n",
    "from easydict import EasyDict\n",
    "\n",
    "import torch\n",
    "import torch.nn as nn\n",
    "import torch.nn.functional as F\n",
    "\n",
    "from sklearn.metrics import normalized_mutual_info_score as NMI\n",
    "\n",
    "from z_common import config_to_execute\n",
    "from data_aug.gaussian_blur import GaussianBlur\n",
    "from clustering import run_clustering\n",
    "from dataset import get_datasets\n",
    "from simclr import SimCLR\n",
    "from log_functions import *\n",
    "\n",
    "from models.baseline_encoder import Encoder\n",
    "from models.alexnet_simclr import AlexSimCLR\n",
    "from models.resnet_simclr import ResNetSimCLR\n",
    "from loss.nt_xent import NTXentLoss\n",
    "from functions import *"
   ]
  },
  {
   "cell_type": "code",
   "execution_count": 3,
   "metadata": {},
   "outputs": [],
   "source": [
    "N_CUDA = 1\n",
    "PARENT = 'Office31'\n",
    "DATA_DOMAIN = 'dslr_webcam'\n",
    "# PARENT = 'Digit'\n",
    "# DATA_DOMAIN = 'svhn_synth_mnist_mnistm'\n",
    "\n",
    "log_dir_opt = f''\n",
    "\n",
    "config, CONFIG_FILE, log_dir = config_to_execute(DATA_DOMAIN, PARENT, N_CUDA, log_dir_opt)\n",
    "config = yaml.load(open(CONFIG_FILE, \"r\"), Loader=yaml.FullLoader)\n",
    "config = EasyDict(config)\n",
    "\n",
    "# args\n",
    "config.config = CONFIG_FILE\n",
    "config.log_dir = log_dir\n",
    "config.num_laps = 2\n",
    "config.spread_message = ''\n",
    "config.cuda_dir = 2\n",
    "# manually\n",
    "config.device = \"cuda\"\n",
    "config.target_dsets_name = \"_\".join(np.array(config.dataset.dset_taples, dtype=object)[:,0])  # dset名のリスト\n",
    "config.checkpoints_dir = os.path.join(config.log_dir, 'checkpoints')\n",
    "config.lap = 1"
   ]
  },
  {
   "cell_type": "code",
   "execution_count": 3,
   "metadata": {},
   "outputs": [],
   "source": [
    "all_filenames = get_all_filenames(config)\n",
    "edls = np.random.randint(0, 2, size=(len(all_filenames), config.model.out_dim))\n"
   ]
  },
  {
   "cell_type": "code",
   "execution_count": 12,
   "metadata": {},
   "outputs": [],
   "source": [
    "tens = torch.tensor([\n",
    "    [0.1540, 0.2633, 0.2743, 0.2106, 0.1614, 0.4289],\n",
    "    [0.1451, 0.2510, 0.1784, 0.3647, 0.1584, 0.1981],\n",
    "    [0.1309, 0.1992, 0.1763, 0.5405, 0.2941, 0.1851],\n",
    "    [0.1389, 0.1890, 0.1584, 0.5859, 0.2454, 0.2257],\n",
    "    [0.2326, 0.3690, 0.3542, 0.5884, 0.3860, 0.5289],\n",
    "    [0.1226, 0.2057, 0.2105, 0.5414, 0.2007, 0.3194]\n",
    "    ], dtype=torch.float32)"
   ]
  },
  {
   "cell_type": "code",
   "execution_count": 13,
   "metadata": {},
   "outputs": [
    {
     "data": {
      "text/plain": [
       "tensor([[0., 0., 0., 0., 0., 0.],\n",
       "        [0., 0., 0., 0., 0., 0.],\n",
       "        [0., 0., 0., 1., 0., 0.],\n",
       "        [0., 0., 0., 1., 0., 0.],\n",
       "        [0., 0., 0., 1., 0., 1.],\n",
       "        [0., 0., 0., 1., 0., 0.]])"
      ]
     },
     "execution_count": 13,
     "metadata": {},
     "output_type": "execute_result"
    }
   ],
   "source": [
    "torch.round(tens)"
   ]
  },
  {
   "cell_type": "code",
   "execution_count": 5,
   "metadata": {},
   "outputs": [
    {
     "data": {
      "text/plain": [
       "array([[ 0.68366182,  0.97465956,  0.24804604, ...,  0.64804476,\n",
       "         0.73727608,  1.02737713],\n",
       "       [ 0.28964758,  0.8780452 ,  0.39023322, ...,  0.6203447 ,\n",
       "         0.83915722,  0.91162282],\n",
       "       [ 0.37241447,  0.96449316, -0.0473991 , ...,  0.83186758,\n",
       "         0.6270299 ,  0.92077935],\n",
       "       ...,\n",
       "       [ 0.77629513,  0.65654004, -0.27979779, ...,  0.77521229,\n",
       "         0.88972056,  1.04037678],\n",
       "       [ 0.5391078 ,  0.9754343 , -0.07070674, ...,  0.59811008,\n",
       "         0.26082897,  1.02409172],\n",
       "       [ 0.8143878 ,  1.07154799,  0.00901337, ...,  0.78825128,\n",
       "         0.97075415,  1.15027678]])"
      ]
     },
     "execution_count": 5,
     "metadata": {},
     "output_type": "execute_result"
    }
   ],
   "source": [
    "ed_feats = np.loadtxt(\"./dslr_webcam_ed_feats.csv\", delimiter=\",\")\n",
    "ed_feats"
   ]
  },
  {
   "cell_type": "code",
   "execution_count": 10,
   "metadata": {},
   "outputs": [
    {
     "data": {
      "text/plain": [
       "array([ 0.71096135, -0.34807661,  0.27453618,  0.44932769,  2.45043913,\n",
       "        0.10925905, -0.17747518, -0.31850479, -0.64726114, -1.71179602])"
      ]
     },
     "execution_count": 10,
     "metadata": {},
     "output_type": "execute_result"
    }
   ],
   "source": [
    "import math\n",
    "import random\n",
    "import numpy as np\n",
    "[random.random() * math.pi for _ in range(10)]\n",
    "np.random.normal(0, 1, size=10)"
   ]
  },
  {
   "cell_type": "code",
   "execution_count": null,
   "metadata": {},
   "outputs": [],
   "source": []
  }
 ],
 "metadata": {
  "kernelspec": {
   "display_name": "Python 3.10.4 ('generic')",
   "language": "python",
   "name": "python3"
  },
  "language_info": {
   "codemirror_mode": {
    "name": "ipython",
    "version": 3
   },
   "file_extension": ".py",
   "mimetype": "text/x-python",
   "name": "python",
   "nbconvert_exporter": "python",
   "pygments_lexer": "ipython3",
   "version": "3.10.4"
  },
  "orig_nbformat": 4,
  "vscode": {
   "interpreter": {
    "hash": "910681d38576edcdf845dadbeb8ce131b44b32e4da67ad4b7e8bb1a3790e2184"
   }
  }
 },
 "nbformat": 4,
 "nbformat_minor": 2
}
