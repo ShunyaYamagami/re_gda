{
 "cells": [
  {
   "cell_type": "code",
   "execution_count": null,
   "metadata": {},
   "outputs": [],
   "source": [
    "%%capture\n",
    "import pandas as pd\n",
    "import numpy as np\n",
    "import os\n",
    "import yaml\n",
    "from glob import glob\n",
    "\n",
    "from sklearn.metrics import normalized_mutual_info_score as NMI"
   ]
  },
  {
   "cell_type": "code",
   "execution_count": null,
   "metadata": {},
   "outputs": [],
   "source": [
    "EXEC_N = 3\n",
    "CLUST_N = 3\n",
    "prompt_files = glob('*/*/*/prompts.log')\n",
    "score_columns = [\"nmi\", \"nmi_class\", \"accus\"]\n",
    "dset_names = [\"amazon_dslr\", \"dslr_webcam\", \"webcaam_amazon\"]"
   ]
  },
  {
   "cell_type": "code",
   "execution_count": null,
   "metadata": {},
   "outputs": [],
   "source": [
    "df_list = []\n",
    "dfg_list = []\n",
    "for prompts in prompt_files:\n",
    "    with open(prompts, 'r') as f:\n",
    "        logs = f.read()\n",
    "    split_texts = logs.split('\\n')\n",
    "    # スコアの行だけ抽出\n",
    "    nmis = [split_text.split(':')[-1] for split_text in split_texts if \"nmi:\" in split_text]\n",
    "    nmi_classes = [split_text.split(':')[-1] for split_text in split_texts if \"nmi_class:\" in split_text]\n",
    "    accs = [split_text.split(':')[-1] for split_text in split_texts if \"domain_accuracy:\" in split_text]\n",
    "    exec_nums = [f\"exec{i//CLUST_N}\" for i in range(len(nmis))]\n",
    "    df = pd.DataFrame(np.array([exec_nums, nmis, nmi_classes, accs]).T, columns=[\"exec_num\", *score_columns])\n",
    "    df[score_columns] = df[score_columns].astype(float)\n",
    "\n",
    "    key_columns = ['exec_num']  # meanとstdを結合する際にキーとなるカラム.\n",
    "    dfg_mean = df.groupby(key_columns).mean().reset_index()\n",
    "    dfg_std = df.groupby(key_columns).std().reset_index().drop(key_columns, axis=1)\n",
    "    dfg_std.columns = [f\"{c}_std\" for c in dfg_std.columns]\n",
    "    dfg = pd.concat([dfg_mean, dfg_std], axis=1)\n",
    "\n",
    "    dfg.insert(0, 'theme', prompts.split('\\\\')[0])\n",
    "    dfg.insert(1, 'dsets', prompts.split('\\\\')[-2][:2])\n",
    "    dfg.insert(2, 'out_dim', prompts.split('\\\\')[1])  # cuda_dir を後でout_dimに変換\n",
    "    dfg_list.append(dfg)\n",
    "df_exec_g = pd.concat(dfg_list)\n",
    "df_exec_g.reset_index(drop=True, inplace=True)\n",
    "\n",
    "dsets_conv_dict = {\"ad\": \"amazon_dslr\", \"dw\": \"dslr_webcam\", \"wa\": \"webcam_amazon\"}\n",
    "cuda_to_dim = {\"CUDA0\": \"4\", \"CUDA1\": \"8\", \"CUDA2\": \"16\", \"CUDA3\": \"32\", \"CUDA4\": \"64\", \"CUDA5\": \"128\"}\n",
    "df_exec_g['dsets'] = df_exec_g['dsets'].apply(lambda x: dsets_conv_dict[x])\n",
    "df_exec_g['out_dim'] = df_exec_g['out_dim'].apply(lambda x: cuda_to_dim[x])\n",
    "df_exec_g.head(3)"
   ]
  },
  {
   "cell_type": "code",
   "execution_count": null,
   "metadata": {},
   "outputs": [],
   "source": [
    "key_columns = ['theme', 'dsets', 'out_dim']  # meanとstdを結合する際にキーとなるカラム.\n",
    "df_dim_g_mean = df_exec_g[[*key_columns, *score_columns]].groupby(key_columns).mean().reset_index()\n",
    "df_dim_g_std = df_exec_g[[*key_columns, *score_columns]].groupby(key_columns).std().reset_index().drop(key_columns, axis=1)\n",
    "df_dim_g_std.columns = [f\"{c}_std\" for c in df_dim_g_std.columns]\n",
    "df_dim_g = pd.concat([df_dim_g_mean, df_dim_g_std], axis=1)\n",
    "\n",
    "df_list = []\n",
    "for task in np.unique(df_dim_g.theme):\n",
    "    df_list.append(df_dim_g[df_dim_g.theme == task].sort_values('out_dim', key=lambda t: t.map(list(cuda_to_dim.values()).index)))\n",
    "df_dim_g = pd.concat(df_list).reset_index(drop=True)\n",
    "df_dim_g.head(3)"
   ]
  },
  {
   "cell_type": "code",
   "execution_count": null,
   "metadata": {},
   "outputs": [],
   "source": [
    "df_exec_g.round(4).to_csv('./exec_g.csv', index=False)\n",
    "df_dim_g.round(4).to_csv('./dim_g.csv', index=False)"
   ]
  },
  {
   "cell_type": "code",
   "execution_count": null,
   "metadata": {},
   "outputs": [],
   "source": []
  }
 ],
 "metadata": {
  "language_info": {
   "name": "python"
  },
  "orig_nbformat": 4
 },
 "nbformat": 4,
 "nbformat_minor": 2
}
